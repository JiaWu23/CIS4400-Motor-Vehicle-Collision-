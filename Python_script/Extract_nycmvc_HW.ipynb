{
  "nbformat": 4,
  "nbformat_minor": 0,
  "metadata": {
    "colab": {
      "provenance": []
    },
    "kernelspec": {
      "name": "python3",
      "display_name": "Python 3"
    },
    "language_info": {
      "name": "python"
    }
  },
  "cells": [
    {
      "cell_type": "markdown",
      "source": [
        "# Intalling Libraries"
      ],
      "metadata": {
        "id": "EG4EZjXyLYPK"
      }
    },
    {
      "cell_type": "code",
      "source": [
        "!pip install beautifulsoup4\n",
        "!pip install requests\n",
        "!pip install azure-storage-blob"
      ],
      "metadata": {
        "colab": {
          "base_uri": "https://localhost:8080/"
        },
        "id": "vrJ74fAQLoIW",
        "outputId": "9aac5534-5606-478a-e2d3-129a3e39a7c9"
      },
      "execution_count": null,
      "outputs": [
        {
          "output_type": "stream",
          "name": "stdout",
          "text": [
            "Requirement already satisfied: beautifulsoup4 in /usr/local/lib/python3.10/dist-packages (4.12.3)\n",
            "Requirement already satisfied: soupsieve>1.2 in /usr/local/lib/python3.10/dist-packages (from beautifulsoup4) (2.6)\n",
            "Requirement already satisfied: requests in /usr/local/lib/python3.10/dist-packages (2.32.3)\n",
            "Requirement already satisfied: charset-normalizer<4,>=2 in /usr/local/lib/python3.10/dist-packages (from requests) (3.4.0)\n",
            "Requirement already satisfied: idna<4,>=2.5 in /usr/local/lib/python3.10/dist-packages (from requests) (3.10)\n",
            "Requirement already satisfied: urllib3<3,>=1.21.1 in /usr/local/lib/python3.10/dist-packages (from requests) (2.2.3)\n",
            "Requirement already satisfied: certifi>=2017.4.17 in /usr/local/lib/python3.10/dist-packages (from requests) (2024.8.30)\n",
            "Collecting azure-storage-blob\n",
            "  Downloading azure_storage_blob-12.24.0-py3-none-any.whl.metadata (26 kB)\n",
            "Collecting azure-core>=1.30.0 (from azure-storage-blob)\n",
            "  Downloading azure_core-1.32.0-py3-none-any.whl.metadata (39 kB)\n",
            "Requirement already satisfied: cryptography>=2.1.4 in /usr/local/lib/python3.10/dist-packages (from azure-storage-blob) (43.0.3)\n",
            "Requirement already satisfied: typing-extensions>=4.6.0 in /usr/local/lib/python3.10/dist-packages (from azure-storage-blob) (4.12.2)\n",
            "Collecting isodate>=0.6.1 (from azure-storage-blob)\n",
            "  Downloading isodate-0.7.2-py3-none-any.whl.metadata (11 kB)\n",
            "Requirement already satisfied: requests>=2.21.0 in /usr/local/lib/python3.10/dist-packages (from azure-core>=1.30.0->azure-storage-blob) (2.32.3)\n",
            "Requirement already satisfied: six>=1.11.0 in /usr/local/lib/python3.10/dist-packages (from azure-core>=1.30.0->azure-storage-blob) (1.16.0)\n",
            "Requirement already satisfied: cffi>=1.12 in /usr/local/lib/python3.10/dist-packages (from cryptography>=2.1.4->azure-storage-blob) (1.17.1)\n",
            "Requirement already satisfied: pycparser in /usr/local/lib/python3.10/dist-packages (from cffi>=1.12->cryptography>=2.1.4->azure-storage-blob) (2.22)\n",
            "Requirement already satisfied: charset-normalizer<4,>=2 in /usr/local/lib/python3.10/dist-packages (from requests>=2.21.0->azure-core>=1.30.0->azure-storage-blob) (3.4.0)\n",
            "Requirement already satisfied: idna<4,>=2.5 in /usr/local/lib/python3.10/dist-packages (from requests>=2.21.0->azure-core>=1.30.0->azure-storage-blob) (3.10)\n",
            "Requirement already satisfied: urllib3<3,>=1.21.1 in /usr/local/lib/python3.10/dist-packages (from requests>=2.21.0->azure-core>=1.30.0->azure-storage-blob) (2.2.3)\n",
            "Requirement already satisfied: certifi>=2017.4.17 in /usr/local/lib/python3.10/dist-packages (from requests>=2.21.0->azure-core>=1.30.0->azure-storage-blob) (2024.8.30)\n",
            "Downloading azure_storage_blob-12.24.0-py3-none-any.whl (408 kB)\n",
            "\u001b[2K   \u001b[90m━━━━━━━━━━━━━━━━━━━━━━━━━━━━━━━━━━━━━━━━\u001b[0m \u001b[32m408.6/408.6 kB\u001b[0m \u001b[31m10.4 MB/s\u001b[0m eta \u001b[36m0:00:00\u001b[0m\n",
            "\u001b[?25hDownloading azure_core-1.32.0-py3-none-any.whl (198 kB)\n",
            "\u001b[2K   \u001b[90m━━━━━━━━━━━━━━━━━━━━━━━━━━━━━━━━━━━━━━━━\u001b[0m \u001b[32m198.9/198.9 kB\u001b[0m \u001b[31m14.7 MB/s\u001b[0m eta \u001b[36m0:00:00\u001b[0m\n",
            "\u001b[?25hDownloading isodate-0.7.2-py3-none-any.whl (22 kB)\n",
            "Installing collected packages: isodate, azure-core, azure-storage-blob\n",
            "Successfully installed azure-core-1.32.0 azure-storage-blob-12.24.0 isodate-0.7.2\n"
          ]
        }
      ]
    },
    {
      "cell_type": "markdown",
      "source": [
        "# Imoporting Libraries"
      ],
      "metadata": {
        "id": "ZzeqYiJGLv4m"
      }
    },
    {
      "cell_type": "code",
      "source": [
        "import requests\n",
        "from bs4 import BeautifulSoup\n",
        "import pandas as pd\n",
        "import numpy  as np\n",
        "import warnings\n",
        "warnings.filterwarnings('ignore')\n",
        "import json\n",
        "import re\n",
        "import os\n",
        "import time\n",
        "from azure.storage.blob import BlobServiceClient, BlobClient, ContainerClient"
      ],
      "metadata": {
        "id": "3wl1BQgaL2lu"
      },
      "execution_count": null,
      "outputs": []
    },
    {
      "cell_type": "markdown",
      "source": [
        "## Extracting Data from NYC Open Data website"
      ],
      "metadata": {
        "id": "ZNvVQYOqbiE-"
      }
    },
    {
      "cell_type": "code",
      "source": [
        "#Azure connection\n",
        "AZURE_STORAGE_CONNECTION_STRING = \"DefaultEndpointsProtocol=https;AccountName=motorcollisions;AccountKey=Os5IgWkQ7zcYAOwCLBL+NpPXEpp+hRVNLoFRwyvfcnPTSqrpJykjygNsJQNBF7vLQYx7w5CeWW66+AStqsFyjg==;EndpointSuffix=core.windows.net\"\n",
        "CONTAINER_NAME = \"nycmvs\"\n",
        "\n",
        "#Initiative Azure Blob Service Client\n",
        "blob_service_client = BlobServiceClient.from_connection_string(AZURE_STORAGE_CONNECTION_STRING)\n",
        "container_client = blob_service_client.get_container_client(CONTAINER_NAME)\n",
        "\n",
        "#For loop to divide the dataset by setting offset 50000\n",
        "for i in range (1, 44, 1):\n",
        "  URL = f'https://data.cityofnewyork.us/resource/h9gi-nx95.json?$limit=50000&$offset={i}'\n",
        "  response = requests.get(URL)\n",
        "\n",
        "  #check if response\n",
        "  if response.status_code != 200:\n",
        "        print(f\"Error: Received status code {response.status_code} at offset {i}\")\n",
        "        break\n",
        "  data = response.json()\n",
        "\n",
        "  #break after the extracting is done\n",
        "  if not data:\n",
        "        print(f\"No data returned at offset {i}. Stopping.\")\n",
        "        break\n",
        "\n",
        "\n",
        "  #Convert the current chunk of data to JSON\n",
        "  chunk_data = json.dumps(data)\n",
        "\n",
        "  #generate a blob name for each chunk\n",
        "  filename = f\"motor_crashes_data_chunk_{i:03}.json\"\n",
        "\n",
        "  # Upload the JSON data as a blob to the container\n",
        "  blob_client = container_client.get_blob_client(filename)\n",
        "  blob_client.upload_blob(chunk_data, overwrite=True)\n"
      ],
      "metadata": {
        "id": "KnhDdTGRcDtN"
      },
      "execution_count": null,
      "outputs": []
    }
  ]
}